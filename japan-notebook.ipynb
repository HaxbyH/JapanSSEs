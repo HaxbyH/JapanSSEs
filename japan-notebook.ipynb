{
 "cells": [
  {
   "cell_type": "markdown",
   "metadata": {
    "collapsed": true,
    "pycharm": {
     "name": "#%% md\n"
    }
   },
   "source": [
    "# Detecting SSE events in Japan using CNN"
   ]
  },
  {
   "cell_type": "code",
   "execution_count": 40,
   "outputs": [],
   "source": [
    "import numpy as np\n",
    "import tensorflow as tf\n",
    "import os\n",
    "import pandas as pd\n",
    "import matplotlib.pyplot as plt\n",
    "from datetime import date"
   ],
   "metadata": {
    "collapsed": false,
    "pycharm": {
     "name": "#%%\n"
    }
   }
  },
  {
   "cell_type": "markdown",
   "source": [
    "Loading Known SSE events"
   ],
   "metadata": {
    "collapsed": false
   }
  },
  {
   "cell_type": "code",
   "execution_count": 41,
   "outputs": [
    {
     "name": "stdout",
     "output_type": "stream",
     "text": [
      "Known SSE start date:  2003-02-02 00:00:00\n",
      "Known SSE end date:  2019-10-12 00:00:00\n"
     ]
    }
   ],
   "source": [
    "knownSSE = pd.read_csv(\"japanSEE/sloweqjapan2003-2022.csv\", parse_dates={\"date\": [\"year\", \"month\", \"day\"]})\n",
    "sortedSSE = knownSSE.sort_values(by=\"date\").drop_duplicates()\n",
    "startdate = sortedSSE.iloc[0]['date']\n",
    "enddate = sortedSSE.iloc[sortedSSE.shape[0]-1]['date']\n",
    "print(\"Known SSE start date: \", startdate)\n",
    "print(\"Known SSE end date: \", enddate)"
   ],
   "metadata": {
    "collapsed": false,
    "pycharm": {
     "name": "#%%\n"
    }
   }
  },
  {
   "cell_type": "markdown",
   "source": [
    "We have SSE data from: 2003-02-02 to 2019-10-12"
   ],
   "metadata": {
    "collapsed": false
   }
  },
  {
   "cell_type": "code",
   "execution_count": 44,
   "outputs": [
    {
     "name": "stdout",
     "output_type": "stream",
     "text": [
      "0 :  4291\n",
      "1 :  5435\n",
      "2 :  3328\n",
      "3 :  5831\n",
      "4 :  5838\n",
      "5 :  4727\n",
      "6 :  5831\n",
      "7 :  4782\n",
      "8 :  4814\n",
      "9 :  5397\n",
      "10 :  5830\n",
      "11 :  3556\n",
      "12 :  5811\n",
      "13 :  5745\n",
      "14 :  5833\n",
      "15 :  3268\n",
      "16 :  4742\n",
      "17 :  5721\n",
      "18 :  5837\n",
      "19 :  5694\n",
      "20 :  5423\n",
      "21 :  5468\n",
      "22 :  5818\n",
      "23 :  3343\n",
      "24 :  5837\n",
      "25 :  3354\n",
      "26 :  4377\n",
      "27 :  4652\n",
      "28 :  5832\n",
      "29 :  5825\n",
      "30 :  4724\n",
      "31 :  3343\n",
      "32 :  2572\n",
      "33 :  5470\n",
      "34 :  5835\n",
      "35 :  5835\n",
      "36 :  5820\n",
      "37 :  4300\n",
      "38 :  4655\n",
      "39 :  5832\n",
      "40 :  5440\n",
      "41 :  3351\n",
      "42 :  4291\n",
      "43 :  5806\n",
      "44 :  5839\n",
      "45 :  3350\n",
      "46 :  5839\n",
      "47 :  5834\n",
      "48 :  5470\n",
      "49 :  5838\n",
      "50 :  4050\n",
      "51 :  5827\n",
      "52 :  5840\n",
      "53 :  5826\n",
      "54 :  5839\n",
      "55 :  5805\n",
      "56 :  5466\n",
      "57 :  5825\n",
      "58 :  5430\n",
      "59 :  5825\n",
      "60 :  5832\n",
      "61 :  3270\n",
      "62 :  5445\n",
      "63 :  4308\n",
      "64 :  3355\n",
      "65 :  5465\n",
      "66 :  5838\n",
      "67 :  5835\n",
      "68 :  5829\n",
      "69 :  934\n",
      "70 :  5833\n",
      "71 :  5465\n",
      "72 :  5828\n",
      "73 :  5824\n",
      "74 :  3352\n",
      "75 :  5832\n",
      "76 :  5457\n",
      "77 :  3354\n",
      "78 :  5761\n",
      "79 :  5824\n",
      "80 :  4010\n",
      "81 :  5839\n",
      "82 :  5838\n",
      "83 :  3978\n",
      "84 :  1811\n",
      "85 :  5832\n",
      "86 :  5799\n",
      "87 :  5466\n",
      "88 :  5466\n",
      "89 :  5817\n",
      "90 :  5814\n",
      "91 :  4723\n",
      "92 :  3146\n",
      "93 :  5835\n",
      "94 :  5821\n",
      "95 :  4300\n",
      "96 :  3355\n",
      "97 :  5808\n",
      "98 :  5814\n",
      "99 :  5833\n",
      "100 :  5838\n",
      "101 :  5839\n",
      "102 :  5828\n",
      "103 :  0\n",
      "104 :  5834\n",
      "105 :  5462\n",
      "106 :  5457\n",
      "107 :  5840\n",
      "108 :  5437\n",
      "109 :  5373\n",
      "110 :  5834\n",
      "111 :  5836\n",
      "112 :  5840\n",
      "113 :  5837\n",
      "114 :  5819\n",
      "115 :  3940\n",
      "116 :  5150\n",
      "117 :  5828\n",
      "118 :  5465\n",
      "119 :  5312\n",
      "120 :  5812\n",
      "121 :  5833\n",
      "122 :  5827\n",
      "123 :  5838\n",
      "124 :  2409\n",
      "125 :  5448\n",
      "126 :  1699\n",
      "127 :  456\n",
      "128 :  5312\n",
      "129 :  5840\n",
      "130 :  0\n",
      "131 :  5829\n",
      "132 :  5836\n",
      "133 :  5835\n",
      "134 :  5819\n",
      "135 :  5359\n",
      "136 :  5807\n",
      "137 :  5829\n",
      "138 :  5832\n",
      "139 :  5471\n",
      "140 :  1693\n",
      "141 :  5427\n",
      "142 :  5838\n",
      "143 :  3313\n",
      "144 :  5835\n",
      "145 :  5348\n",
      "146 :  3884\n",
      "147 :  5829\n",
      "148 :  5327\n",
      "149 :  5840\n",
      "150 :  5463\n",
      "151 :  5836\n",
      "152 :  5466\n",
      "153 :  5840\n",
      "154 :  5794\n",
      "155 :  5829\n",
      "156 :  5821\n",
      "157 :  5839\n",
      "158 :  4288\n",
      "159 :  1634\n",
      "160 :  5836\n",
      "161 :  4735\n",
      "162 :  5839\n",
      "163 :  5469\n",
      "164 :  2957\n",
      "165 :  5840\n",
      "166 :  5766\n",
      "167 :  3067\n",
      "168 :  4168\n",
      "169 :  5832\n",
      "170 :  5826\n",
      "171 :  4741\n",
      "172 :  5835\n",
      "173 :  5829\n",
      "174 :  5419\n",
      "175 :  3283\n",
      "176 :  5829\n",
      "177 :  5662\n",
      "178 :  4011\n",
      "179 :  5832\n",
      "180 :  5810\n",
      "181 :  5836\n",
      "182 :  3325\n",
      "183 :  5840\n",
      "184 :  2434\n",
      "185 :  5464\n",
      "186 :  4235\n",
      "187 :  5831\n",
      "188 :  4964\n"
     ]
    }
   ],
   "source": [
    "# Choose directory\n",
    "directory_name = \"./japandata\"\n",
    "files = os.listdir(directory_name)\n",
    "\n",
    "# Process data\n",
    "GNSSdata = []\n",
    "start_date = '2004-01-01'\n",
    "end_date = '2020-01-01'\n",
    "index = 0\n",
    "numberofdays = -(date(2003, 1, 1) - date(2020, 1, 1)).days\n",
    "for filename in files:\n",
    "    if filename.endswith(\".res\"):\n",
    "        # read in file\n",
    "        path = os.path.join(directory_name, filename)\n",
    "        GNSSdataframe = pd.read_csv(path, delim_whitespace=True, header=None)\n",
    "\n",
    "        # parse data\n",
    "        GNSSdataframe.columns = [\"date\", \"NS_displacement\", \"EW_displacement\", \"UD_displacement\", \"Length_change\"]\n",
    "        GNSSdataframe[\"date\"] = pd.to_datetime(GNSSdataframe[\"date\"])\n",
    "\n",
    "        post = GNSSdataframe.loc[-(GNSSdataframe.date < start_date) & (GNSSdataframe.date <= end_date)]\n",
    "        print(index, ': ', post.shape[0])\n",
    "        index = index+1\n",
    "\n",
    "\n",
    "        GNSSdata.append(post)"
   ],
   "metadata": {
    "collapsed": false,
    "pycharm": {
     "name": "#%%\n"
    }
   }
  },
  {
   "cell_type": "code",
   "execution_count": 7,
   "outputs": [
    {
     "data": {
      "text/plain": "[<matplotlib.lines.Line2D at 0x15fc43e80>]"
     },
     "execution_count": 7,
     "metadata": {},
     "output_type": "execute_result"
    },
    {
     "data": {
      "text/plain": "<Figure size 432x288 with 1 Axes>",
      "image/png": "[encoded data removed]"
     },
     "metadata": {
      "needs_background": "light"
     },
     "output_type": "display_data"
    }
   ],
   "source": [
    "plt.plot(GNSSdata[2]['date'], GNSSdata[2]['EW_displacement'])"
   ],
   "metadata": {
    "collapsed": false,
    "pycharm": {
     "name": "#%%\n"
    }
   }
  },
  {
   "cell_type": "code",
   "execution_count": 43,
   "outputs": [
    {
     "name": "stdout",
     "output_type": "stream",
     "text": [
      "          date  NS_displacement  EW_displacement  UD_displacement  \\\n",
      "283 2004-01-01          -0.0006           0.0202          -0.0023   \n",
      "284 2004-01-02          -0.0001           0.0213           0.0008   \n",
      "285 2004-01-03           0.0000           0.0199           0.0012   \n",
      "286 2004-01-04          -0.0009           0.0201           0.0027   \n",
      "287 2004-01-05          -0.0008           0.0197           0.0006   \n",
      "\n",
      "     Length_change  \n",
      "283         0.0202  \n",
      "284         0.0217  \n",
      "285         0.0220  \n",
      "286         0.0207  \n",
      "287         0.0228  \n",
      "           date  NS_displacement  EW_displacement  UD_displacement  \\\n",
      "6109 2019-12-28          -0.1471           0.4536          -0.0632   \n",
      "6110 2019-12-29          -0.1467           0.4543          -0.0584   \n",
      "6111 2019-12-30          -0.1474           0.4520          -0.0594   \n",
      "6112 2019-12-31          -0.1462           0.4541          -0.0587   \n",
      "6113 2020-01-01          -0.1471           0.4548          -0.0576   \n",
      "\n",
      "      Length_change  \n",
      "6109         0.4792  \n",
      "6110         0.4794  \n",
      "6111         0.4751  \n",
      "6112         0.4788  \n",
      "6113         0.4792  \n"
     ]
    }
   ],
   "source": [
    "print(GNSSdata[3].head())\n",
    "print(GNSSdata[3].tail())\n"
   ],
   "metadata": {
    "collapsed": false,
    "pycharm": {
     "name": "#%%\n"
    }
   }
  }
 ],
 "metadata": {
  "kernelspec": {
   "display_name": "Python 3",
   "language": "python",
   "name": "python3"
  },
  "language_info": {
   "codemirror_mode": {
    "name": "ipython",
    "version": 2
   },
   "file_extension": ".py",
   "mimetype": "text/x-python",
   "name": "python",
   "nbconvert_exporter": "python",
   "pygments_lexer": "ipython2",
   "version": "2.7.6"
  }
 },
 "nbformat": 4,
 "nbformat_minor": 0
}